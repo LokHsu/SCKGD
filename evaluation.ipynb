{
 "cells": [
  {
   "cell_type": "code",
   "execution_count": 1,
   "metadata": {},
   "outputs": [],
   "source": [
    "import pickle\n",
    "import torch\n",
    "from torch.utils.data import DataLoader\n",
    "\n",
    "from utils.dataloader import *\n",
    "from utils import graph\n",
    "from utils.loss import *\n",
    "from utils.evaluator import *\n",
    "from models.lightgcn import LightGCN\n",
    "\n",
    "device = torch.device('cuda' if torch.cuda.is_available() else 'cpu')"
   ]
  },
  {
   "cell_type": "markdown",
   "metadata": {},
   "source": [
    "# Tmall"
   ]
  },
  {
   "cell_type": "code",
   "execution_count": 2,
   "metadata": {},
   "outputs": [],
   "source": [
    "behaviors = ['click', 'fav', 'cart', 'buy']\n",
    "\n",
    "train_file = './data/Tmall/trn_'\n",
    "test_file = './data/Tmall/tst_int'\n"
   ]
  },
  {
   "cell_type": "code",
   "execution_count": 3,
   "metadata": {},
   "outputs": [],
   "source": [
    "train_u2i = []\n",
    "for i in range(len(behaviors)):\n",
    "    with open(train_file + behaviors[i], 'rb') as f:\n",
    "        u2i = pickle.load(f)\n",
    "        train_u2i.append(u2i)\n",
    "\n",
    "        if behaviors[i] == 'buy':\n",
    "            user_num = u2i.get_shape()[0]\n",
    "            item_num = u2i.get_shape()[1]\n",
    "\n",
    "train_dataset = TrainDataset(train_u2i, behaviors, item_num)\n",
    "train_loader = DataLoader(train_dataset, shuffle=True, batch_size=2048, num_workers=8)\n",
    "\n",
    "with open(test_file, 'rb') as f:\n",
    "    test_dataset = TestDataset(pickle.load(f))\n",
    "test_loader = DataLoader(test_dataset, shuffle=False, batch_size=2048, num_workers=4, pin_memory=True)\n"
   ]
  },
  {
   "cell_type": "code",
   "execution_count": 4,
   "metadata": {},
   "outputs": [
    {
     "name": "stdout",
     "output_type": "stream",
     "text": [
      "Tmall Evaluation Metrics:\n",
      "hr@10 = 0.617431\n",
      "ndcg@10 = 0.398516\n"
     ]
    }
   ],
   "source": [
    "adj_matrix = graph.create_adj_mats(train_u2i, user_num, item_num, behaviors, device)\n",
    "\n",
    "checkpoint = torch.load('./checkpoints/tmall.pth')\n",
    "\n",
    "gcn = LightGCN(user_num, item_num, behaviors, adj_matrix).to(device)\n",
    "gcn.load_state_dict(checkpoint)\n",
    "\n",
    "print('Tmall Evaluation Metrics:')\n",
    "with torch.no_grad():\n",
    "    user_embs, item_embs = gcn()\n",
    "    test_res = test(\n",
    "        test_loader,\n",
    "        train_u2i[-1],\n",
    "        user_embs[-1].detach(),\n",
    "        item_embs[-1].detach(),\n",
    "    )\n"
   ]
  }
 ],
 "metadata": {
  "kernelspec": {
   "display_name": "Python 3",
   "language": "python",
   "name": "python3"
  },
  "language_info": {
   "codemirror_mode": {
    "name": "ipython",
    "version": 3
   },
   "file_extension": ".py",
   "mimetype": "text/x-python",
   "name": "python",
   "nbconvert_exporter": "python",
   "pygments_lexer": "ipython3",
   "version": "3.9.6"
  }
 },
 "nbformat": 4,
 "nbformat_minor": 4
}
